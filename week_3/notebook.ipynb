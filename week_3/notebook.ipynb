{
 "cells": [
  {
   "cell_type": "markdown",
   "metadata": {},
   "source": [
    "# Introduction to Pytroch"
   ]
  },
  {
   "cell_type": "markdown",
   "metadata": {},
   "source": [
    "## tensors"
   ]
  },
  {
   "cell_type": "code",
   "execution_count": 1,
   "metadata": {},
   "outputs": [],
   "source": [
    "import torch"
   ]
  },
  {
   "cell_type": "code",
   "execution_count": 2,
   "metadata": {},
   "outputs": [
    {
     "data": {
      "text/plain": [
       "'1.2.0'"
      ]
     },
     "execution_count": 2,
     "metadata": {},
     "output_type": "execute_result"
    }
   ],
   "source": [
    "torch.__version__"
   ]
  },
  {
   "cell_type": "code",
   "execution_count": 3,
   "metadata": {},
   "outputs": [
    {
     "data": {
      "text/plain": [
       "tensor([[1, 2],\n",
       "        [3, 4]])"
      ]
     },
     "execution_count": 3,
     "metadata": {},
     "output_type": "execute_result"
    }
   ],
   "source": [
    "torch.tensor([[1, 2], [3, 4]])"
   ]
  },
  {
   "cell_type": "code",
   "execution_count": 4,
   "metadata": {},
   "outputs": [
    {
     "name": "stdout",
     "output_type": "stream",
     "text": [
      "tensor(5.1000) torch.float32\n"
     ]
    }
   ],
   "source": [
    "x = torch.tensor(5.1)\n",
    "print(x, x.dtype)"
   ]
  },
  {
   "cell_type": "code",
   "execution_count": 5,
   "metadata": {},
   "outputs": [
    {
     "name": "stdout",
     "output_type": "stream",
     "text": [
      "tensor(3) torch.int64\n"
     ]
    }
   ],
   "source": [
    "x = torch.tensor(3)\n",
    "print(x, x.dtype)"
   ]
  },
  {
   "cell_type": "code",
   "execution_count": 6,
   "metadata": {},
   "outputs": [
    {
     "data": {
      "text/plain": [
       "torch.Size([3, 4, 5])"
      ]
     },
     "execution_count": 6,
     "metadata": {},
     "output_type": "execute_result"
    }
   ],
   "source": [
    "x = torch.ones(3, 4, 5)\n",
    "x.shape"
   ]
  },
  {
   "cell_type": "markdown",
   "metadata": {},
   "source": [
    "## torch.cuda"
   ]
  },
  {
   "cell_type": "code",
   "execution_count": 7,
   "metadata": {},
   "outputs": [
    {
     "data": {
      "text/plain": [
       "True"
      ]
     },
     "execution_count": 7,
     "metadata": {},
     "output_type": "execute_result"
    }
   ],
   "source": [
    "torch.cuda.is_available()"
   ]
  },
  {
   "cell_type": "code",
   "execution_count": 8,
   "metadata": {},
   "outputs": [],
   "source": [
    "x = torch.ones(500, 500)"
   ]
  },
  {
   "cell_type": "code",
   "execution_count": 9,
   "metadata": {},
   "outputs": [],
   "source": [
    "y = x.cuda()"
   ]
  },
  {
   "cell_type": "code",
   "execution_count": 10,
   "metadata": {},
   "outputs": [
    {
     "name": "stdout",
     "output_type": "stream",
     "text": [
      "1.02 ms ± 88.1 µs per loop (mean ± std. dev. of 7 runs, 1000 loops each)\n"
     ]
    }
   ],
   "source": [
    "%%timeit\n",
    "x @ x"
   ]
  },
  {
   "cell_type": "code",
   "execution_count": 11,
   "metadata": {},
   "outputs": [
    {
     "name": "stdout",
     "output_type": "stream",
     "text": [
      "The slowest run took 4.87 times longer than the fastest. This could mean that an intermediate result is being cached.\n",
      "14.8 µs ± 12.3 µs per loop (mean ± std. dev. of 7 runs, 1 loop each)\n"
     ]
    }
   ],
   "source": [
    "%%timeit\n",
    "y @ y"
   ]
  },
  {
   "cell_type": "markdown",
   "metadata": {},
   "source": [
    "## torch.autograd"
   ]
  },
  {
   "cell_type": "code",
   "execution_count": 12,
   "metadata": {},
   "outputs": [],
   "source": [
    "a = torch.tensor(2.5, requires_grad=True)\n",
    "b = torch.tensor(3.0, requires_grad=True)"
   ]
  },
  {
   "cell_type": "code",
   "execution_count": 13,
   "metadata": {},
   "outputs": [],
   "source": [
    "c = a * (b ** 2)"
   ]
  },
  {
   "cell_type": "code",
   "execution_count": 14,
   "metadata": {},
   "outputs": [],
   "source": [
    "c.backward(retain_graph=True)"
   ]
  },
  {
   "cell_type": "code",
   "execution_count": 15,
   "metadata": {},
   "outputs": [
    {
     "data": {
      "text/plain": [
       "(tensor(9.), tensor(15.))"
      ]
     },
     "execution_count": 15,
     "metadata": {},
     "output_type": "execute_result"
    }
   ],
   "source": [
    "a.grad, b.grad"
   ]
  },
  {
   "cell_type": "code",
   "execution_count": null,
   "metadata": {},
   "outputs": [],
   "source": []
  },
  {
   "cell_type": "code",
   "execution_count": 16,
   "metadata": {},
   "outputs": [
    {
     "data": {
      "text/plain": [
       "(tensor(9.), None)"
      ]
     },
     "execution_count": 16,
     "metadata": {},
     "output_type": "execute_result"
    }
   ],
   "source": [
    "a = torch.tensor(2.5, requires_grad=True)\n",
    "b = torch.tensor(3.0, requires_grad=True)\n",
    "c = a * (b ** 2).detach()\n",
    "c.backward()\n",
    "a.grad, b.grad"
   ]
  },
  {
   "cell_type": "code",
   "execution_count": null,
   "metadata": {},
   "outputs": [],
   "source": []
  },
  {
   "cell_type": "code",
   "execution_count": 17,
   "metadata": {},
   "outputs": [],
   "source": [
    "x = torch.ones(4, 4, requires_grad=True)"
   ]
  },
  {
   "cell_type": "code",
   "execution_count": 18,
   "metadata": {},
   "outputs": [],
   "source": [
    "z = x[0, 0] * x[0, 1]"
   ]
  },
  {
   "cell_type": "code",
   "execution_count": 19,
   "metadata": {},
   "outputs": [],
   "source": [
    "z.backward()"
   ]
  },
  {
   "cell_type": "code",
   "execution_count": 20,
   "metadata": {},
   "outputs": [
    {
     "data": {
      "text/plain": [
       "tensor([[1., 1., 0., 0.],\n",
       "        [0., 0., 0., 0.],\n",
       "        [0., 0., 0., 0.],\n",
       "        [0., 0., 0., 0.]])"
      ]
     },
     "execution_count": 20,
     "metadata": {},
     "output_type": "execute_result"
    }
   ],
   "source": [
    "x.grad"
   ]
  },
  {
   "cell_type": "code",
   "execution_count": null,
   "metadata": {},
   "outputs": [],
   "source": []
  },
  {
   "cell_type": "code",
   "execution_count": 21,
   "metadata": {},
   "outputs": [],
   "source": [
    "x = torch.ones(2, requires_grad=True)\n",
    "#x[0] = x[1]\n",
    "(x[0] * x[1]).backward()"
   ]
  },
  {
   "cell_type": "code",
   "execution_count": null,
   "metadata": {},
   "outputs": [],
   "source": []
  },
  {
   "cell_type": "code",
   "execution_count": 29,
   "metadata": {},
   "outputs": [],
   "source": [
    "x = torch.ones(2, requires_grad=True)\n",
    "with torch.no_grad():\n",
    "    x[0] = x[1]\n",
    "(x[0] * x[1]).backward()"
   ]
  },
  {
   "cell_type": "code",
   "execution_count": null,
   "metadata": {},
   "outputs": [],
   "source": []
  },
  {
   "cell_type": "code",
   "execution_count": 22,
   "metadata": {},
   "outputs": [
    {
     "data": {
      "text/plain": [
       "tensor([[2., 2., 2., 2.],\n",
       "        [2., 2., 2., 2.],\n",
       "        [2., 2., 2., 2.],\n",
       "        [2., 2., 2., 2.]])"
      ]
     },
     "execution_count": 22,
     "metadata": {},
     "output_type": "execute_result"
    }
   ],
   "source": [
    "x = torch.ones(4, 4, requires_grad=True)\n",
    "z = x * x\n",
    "\n",
    "s = torch.sum(z * torch.ones(4, 4))\n",
    "s.backward(retain_graph=True)\n",
    "x.grad"
   ]
  },
  {
   "cell_type": "code",
   "execution_count": 23,
   "metadata": {},
   "outputs": [
    {
     "data": {
      "text/plain": [
       "tensor([[2., 2., 2., 2.],\n",
       "        [2., 2., 2., 2.],\n",
       "        [2., 2., 2., 2.],\n",
       "        [2., 2., 2., 2.]])"
      ]
     },
     "execution_count": 23,
     "metadata": {},
     "output_type": "execute_result"
    }
   ],
   "source": [
    "# equivalent to the previous cell\n",
    "x = torch.ones(4, 4, requires_grad=True)\n",
    "z = x * x\n",
    "\n",
    "z.backward(torch.ones(4, 4), retain_graph=True)\n",
    "x.grad"
   ]
  },
  {
   "cell_type": "code",
   "execution_count": null,
   "metadata": {},
   "outputs": [],
   "source": []
  },
  {
   "cell_type": "markdown",
   "metadata": {},
   "source": [
    "## torch.optim"
   ]
  },
  {
   "cell_type": "code",
   "execution_count": 24,
   "metadata": {},
   "outputs": [
    {
     "name": "stdout",
     "output_type": "stream",
     "text": [
      "     3.0\t     3.0\t    19.0\n",
      "     2.1\t     2.5\t    9.91\n",
      "    1.43\t    2.19\t    5.21\n",
      "   0.925\t    2.01\t    2.71\n",
      "   0.539\t    1.91\t    1.33\n",
      "    0.24\t    1.88\t   0.523\n",
      " 0.00406\t    1.88\t  0.0225\n",
      "  -0.185\t     1.9\t  -0.307\n",
      "  -0.338\t    1.94\t  -0.538\n",
      "  -0.464\t    1.99\t  -0.706\n",
      "   -0.57\t    2.04\t  -0.834\n",
      "   -0.66\t    2.09\t  -0.933\n",
      "  -0.736\t    2.13\t   -1.01\n",
      "  -0.802\t    2.18\t   -1.07\n",
      "   -0.86\t    2.22\t   -1.12\n",
      "   -0.91\t    2.27\t   -1.16\n",
      "  -0.955\t     2.3\t    -1.2\n",
      "  -0.994\t    2.34\t   -1.22\n",
      "   -1.03\t    2.37\t   -1.24\n",
      "   -1.06\t     2.4\t   -1.26\n",
      "   -1.09\t    2.43\t   -1.27\n",
      "   -1.11\t    2.45\t   -1.29\n",
      "   -1.14\t    2.47\t   -1.29\n",
      "   -1.16\t    2.49\t    -1.3\n",
      "   -1.17\t    2.51\t   -1.31\n",
      "   -1.19\t    2.52\t   -1.31\n",
      "    -1.2\t    2.54\t   -1.32\n",
      "   -1.22\t    2.55\t   -1.32\n",
      "   -1.23\t    2.56\t   -1.32\n",
      "   -1.24\t    2.57\t   -1.32\n",
      "   -1.25\t    2.58\t   -1.33\n",
      "   -1.26\t    2.59\t   -1.33\n",
      "   -1.26\t     2.6\t   -1.33\n",
      "   -1.27\t     2.6\t   -1.33\n",
      "   -1.28\t    2.61\t   -1.33\n",
      "   -1.28\t    2.62\t   -1.33\n",
      "   -1.29\t    2.62\t   -1.33\n",
      "   -1.29\t    2.63\t   -1.33\n",
      "    -1.3\t    2.63\t   -1.33\n",
      "    -1.3\t    2.63\t   -1.33\n",
      "    -1.3\t    2.64\t   -1.33\n",
      "   -1.31\t    2.64\t   -1.33\n",
      "   -1.31\t    2.64\t   -1.33\n",
      "   -1.31\t    2.65\t   -1.33\n",
      "   -1.31\t    2.65\t   -1.33\n",
      "   -1.32\t    2.65\t   -1.33\n",
      "   -1.32\t    2.65\t   -1.33\n",
      "   -1.32\t    2.65\t   -1.33\n",
      "   -1.32\t    2.65\t   -1.33\n",
      "   -1.32\t    2.66\t   -1.33\n"
     ]
    }
   ],
   "source": [
    "x = torch.tensor(3.0, requires_grad=True)\n",
    "y = torch.tensor(3.0, requires_grad=True)\n",
    "\n",
    "optimizer = torch.optim.SGD([x, y], 0.1)\n",
    "\n",
    "for _ in range(50):\n",
    "    z = x ** 2 + x * y + (y - 2) ** 2\n",
    "\n",
    "    print(\"{:8.3}\\t{:8.3}\\t{:8.3}\".format(x.item(), y.item(), z.item()))\n",
    "    \n",
    "    optimizer.zero_grad()\n",
    "    z.backward()\n",
    "    optimizer.step()"
   ]
  },
  {
   "cell_type": "code",
   "execution_count": null,
   "metadata": {},
   "outputs": [],
   "source": []
  },
  {
   "cell_type": "markdown",
   "metadata": {},
   "source": [
    "## torch.nn"
   ]
  },
  {
   "cell_type": "code",
   "execution_count": 25,
   "metadata": {},
   "outputs": [],
   "source": [
    "from torch import nn"
   ]
  },
  {
   "cell_type": "code",
   "execution_count": 26,
   "metadata": {
    "scrolled": false
   },
   "outputs": [
    {
     "name": "stdout",
     "output_type": "stream",
     "text": [
      "    2.23 \t   -3.76 \t   0.225\n",
      "   -1.82 \t   -5.56 \t   0.222\n",
      "  -0.449 \t   -3.42 \t   0.222\n",
      "   -4.48 \t    1.56 \t   0.244\n",
      "    4.82 \t     8.6 \t   0.234\n",
      "    2.89 \t     3.8 \t   0.232\n",
      "   0.426 \t    -3.4 \t   0.235\n",
      "   -3.74 \t    2.11 \t   0.254\n",
      "   -12.4 \t   0.884 \t   0.379\n",
      "    4.61 \t    -1.4 \t   0.401\n",
      "   -6.21 \t    3.55 \t    0.45\n",
      "   0.594 \t     2.1 \t    0.45\n",
      "   -2.86 \t   -5.11 \t   0.448\n",
      "   0.729 \t    2.37 \t   0.448\n",
      "   0.102 \t  -0.358 \t   0.448\n",
      "    1.68 \t   -1.93 \t   0.455\n",
      "   0.322 \t    1.61 \t   0.455\n",
      "    3.26 \t    1.04 \t   0.459\n",
      "   -9.59 \t   -4.01 \t   0.491\n",
      "    3.13 \t    0.94 \t   0.496\n",
      "    3.82 \t   -4.65 \t   0.528\n",
      "   -3.37 \t   -12.4 \t   0.535\n",
      "    -2.3 \t    -9.0 \t   0.542\n",
      "   -5.44 \t   0.217 \t   0.565\n",
      "   -5.34 \t   -6.74 \t   0.563\n",
      "    3.74 \t    7.97 \t   0.562\n",
      "    3.62 \t    4.99 \t   0.561\n",
      "   -1.81 \t   -9.33 \t   0.576\n",
      "   -2.35 \t  -0.723 \t   0.579\n",
      "    4.82 \t    6.16 \t   0.577\n",
      "     7.5 \t    8.37 \t   0.575\n",
      "    2.76 \t    -7.4 \t   0.637\n",
      "   -2.92 \t  -0.201 \t   0.644\n",
      "     4.0 \t    3.32 \t   0.645\n",
      "   -1.35 \t    1.32 \t    0.65\n",
      "    1.26 \t    2.86 \t   0.651\n",
      "  -0.274 \t    1.24 \t   0.652\n",
      "   -1.64 \t   0.039 \t   0.655\n",
      "    -5.0 \t   -7.22 \t   0.655\n",
      "    -7.3 \t   -2.12 \t   0.681\n",
      "    5.23 \t    1.07 \t   0.695\n",
      "    2.64 \t    6.28 \t     0.7\n",
      "   -2.89 \t   -4.08 \t     0.7\n",
      "    1.11 \t    5.68 \t   0.713\n",
      "  -0.198 \t   -1.71 \t   0.715\n",
      "  -0.851 \t   -3.27 \t   0.718\n",
      "   -6.08 \t    -4.9 \t   0.721\n",
      "   -2.18 \t   -2.98 \t   0.721\n",
      "     4.9 \t    6.79 \t   0.722\n",
      "    5.34 \t    3.44 \t   0.726\n",
      "    7.87 \t    3.63 \t   0.745\n",
      "   -4.78 \t    -6.2 \t   0.745\n",
      "    6.37 \t    7.21 \t   0.745\n",
      "   -3.25 \t   -4.09 \t   0.745\n",
      "   0.624 \t    1.96 \t   0.746\n",
      "    5.91 \t     5.1 \t   0.747\n",
      "    1.66 \t     1.1 \t   0.747\n",
      "  0.0219 \t   -1.56 \t   0.749\n",
      "   -5.84 \t   -1.07 \t   0.764\n",
      "   -2.32 \t   -4.06 \t   0.765\n",
      "   -7.64 \t   -6.64 \t   0.767\n",
      "   -8.51 \t   -5.46 \t   0.776\n",
      "   -2.54 \t  -0.874 \t   0.779\n",
      "   0.341 \t  -0.199 \t   0.779\n",
      "    3.84 \t    5.13 \t   0.779\n",
      "   -9.63 \t    -5.0 \t   0.799\n",
      "   -4.93 \t   -3.15 \t   0.803\n",
      "   0.824 \t  -0.639 \t   0.805\n",
      "    3.35 \t   0.642 \t   0.811\n",
      "   -4.77 \t   -3.17 \t   0.813\n",
      "    -2.3 \t   -3.43 \t   0.814\n",
      "    5.66 \t    3.21 \t    0.82\n",
      "    1.51 \t    -1.1 \t   0.824\n",
      "   -1.46 \t   -1.92 \t   0.824\n",
      "    -1.2 \t   0.665 \t   0.827\n",
      "   -3.33 \t   0.181 \t   0.835\n",
      "    7.56 \t    3.78 \t   0.848\n",
      "   -5.93 \t    -6.8 \t   0.848\n",
      "   -4.13 \t   -6.01 \t    0.85\n",
      "    2.52 \t    1.24 \t   0.851\n",
      "    3.23 \t    3.86 \t   0.851\n",
      "   -1.47 \t   -4.09 \t   0.855\n",
      "   -3.62 \t  -0.327 \t   0.864\n",
      "    9.08 \t    6.96 \t   0.868\n",
      "    10.3 \t     9.8 \t   0.869\n",
      "    -2.3 \t   -2.47 \t   0.869\n",
      "   -3.89 \t   -2.67 \t    0.87\n",
      "   -7.96 \t   -6.47 \t   0.872\n",
      "   -9.48 \t   -7.72 \t   0.876\n",
      "    1.21 \t    -1.4 \t    0.88\n",
      "    7.31 \t    8.82 \t   0.881\n",
      "  -0.954 \t  -0.146 \t   0.881\n",
      "   -5.35 \t   -5.06 \t   0.881\n",
      "    4.06 \t    7.71 \t   0.888\n",
      "   -7.12 \t   -6.15 \t   0.889\n",
      "    12.1 \t    10.6 \t   0.892\n",
      "   -7.42 \t   -3.06 \t   0.907\n",
      "    4.45 \t    4.02 \t   0.907\n",
      "   0.629 \t   -2.85 \t   0.915\n",
      "    2.17 \t    3.64 \t   0.916\n",
      "   0.435 \t    1.95 \t   0.917\n",
      "    5.97 \t    5.36 \t   0.918\n",
      "     4.3 \t    5.87 \t   0.919\n",
      "    8.43 \t    8.71 \t   0.919\n",
      "   -1.23 \t   -2.96 \t   0.921\n",
      "   -3.91 \t   -2.12 \t   0.923\n",
      "    6.12 \t    4.09 \t   0.926\n",
      "   0.966 \t  -0.807 \t   0.929\n",
      "   -5.97 \t   -6.18 \t   0.929\n",
      "   -7.02 \t   -3.31 \t   0.937\n",
      "   -4.79 \t   -7.11 \t    0.94\n",
      "    3.49 \t    4.45 \t    0.94\n",
      "   -7.85 \t   -7.38 \t    0.94\n",
      "   -5.55 \t   -8.62 \t   0.945\n",
      "    2.98 \t    5.67 \t   0.949\n",
      "   -2.94 \t   -1.97 \t    0.95\n",
      "   -7.79 \t   -7.42 \t    0.95\n",
      "   -2.25 \t   -1.29 \t   0.951\n",
      "   -1.46 \t   0.794 \t   0.954\n",
      "    3.84 \t    4.62 \t   0.955\n",
      "    7.11 \t    5.15 \t   0.957\n",
      "    2.92 \t     2.7 \t   0.957\n",
      "    3.63 \t    2.55 \t   0.958\n",
      "    2.71 \t    4.97 \t   0.961\n",
      "   -6.23 \t   -4.66 \t   0.963\n",
      "    6.19 \t    6.43 \t   0.963\n",
      "   -4.54 \t   -4.43 \t   0.963\n",
      "    6.91 \t    5.25 \t   0.965\n",
      "     1.9 \t     1.3 \t   0.965\n",
      "   -7.35 \t   -8.19 \t   0.965\n",
      "   -1.41 \t -0.0452 \t   0.967\n",
      "    2.94 \t    2.57 \t   0.967\n",
      "    1.54 \t   -1.74 \t   0.974\n",
      "    2.19 \t    2.63 \t   0.974\n",
      "   -2.12 \t   -3.75 \t   0.976\n",
      "   -2.09 \t   -2.99 \t   0.976\n",
      "  -0.264 \t    1.06 \t   0.977\n",
      "   -5.78 \t   -5.74 \t   0.977\n",
      "   -2.16 \t  -0.409 \t   0.979\n",
      "   0.436 \t    1.28 \t    0.98\n",
      "   -2.89 \t   -1.03 \t   0.982\n",
      "    5.54 \t    6.61 \t   0.983\n",
      "   -5.48 \t   -6.09 \t   0.983\n",
      "   -4.18 \t    -4.5 \t   0.984\n",
      "    11.5 \t    10.2 \t   0.984\n",
      "   -4.04 \t   -4.31 \t   0.984\n",
      "   0.973 \t    1.21 \t   0.984\n",
      "   -4.07 \t   -3.62 \t   0.984\n",
      "    8.33 \t    8.11 \t   0.984\n",
      "   -6.06 \t    -4.6 \t   0.985\n",
      "   -4.53 \t   -4.34 \t   0.985\n",
      "    2.18 \t    1.76 \t   0.985\n",
      "   -1.04 \t    0.33 \t   0.987\n",
      "    2.11 \t    2.92 \t   0.987\n",
      "    5.38 \t    4.44 \t   0.988\n",
      "    4.87 \t    5.22 \t   0.988\n",
      "  -0.919 \t   -1.54 \t   0.988\n",
      "   -2.15 \t   -2.43 \t   0.988\n",
      "   -1.58 \t   -1.27 \t   0.988\n",
      "    5.76 \t    6.31 \t   0.988\n",
      "    9.11 \t    8.27 \t   0.989\n",
      "   -3.49 \t   -3.87 \t   0.989\n",
      "   -1.52 \t   -1.41 \t   0.989\n",
      "   -6.26 \t   -6.35 \t   0.989\n",
      "   0.107 \t    0.65 \t   0.989\n",
      "   -2.81 \t   -2.58 \t   0.989\n",
      "    4.65 \t    4.35 \t   0.989\n",
      "   -11.6 \t   -11.2 \t   0.989\n",
      "   0.569 \t   0.567 \t   0.989\n",
      "    1.16 \t    1.07 \t   0.989\n",
      "   -4.51 \t   -4.99 \t   0.989\n",
      "   0.594 \t  -0.548 \t    0.99\n",
      "   -2.73 \t   -1.72 \t   0.991\n",
      "    4.04 \t    4.64 \t   0.991\n",
      "   -1.74 \t   -2.52 \t   0.992\n",
      "    9.34 \t    9.51 \t   0.992\n",
      "    4.23 \t     4.2 \t   0.992\n",
      "   -7.89 \t    -7.4 \t   0.992\n",
      "    1.53 \t    1.56 \t   0.992\n",
      "   -1.62 \t  -0.994 \t   0.992\n",
      "    2.13 \t     2.4 \t   0.992\n",
      "   -1.78 \t   -2.02 \t   0.992\n",
      "    -5.0 \t   -4.75 \t   0.992\n",
      "  -0.595 \t  -0.244 \t   0.992\n",
      "   -1.86 \t   -1.14 \t   0.993\n",
      "  -0.528 \t  -0.436 \t   0.993\n",
      "  -0.927 \t  -0.432 \t   0.993\n",
      "    1.43 \t     1.2 \t   0.993\n",
      "  -0.187 \t   -0.15 \t   0.993\n",
      "   -5.62 \t   -5.59 \t   0.993\n",
      "   0.318 \t   0.696 \t   0.993\n",
      "  -0.332 \t   0.696 \t   0.994\n",
      "   -3.24 \t   -3.85 \t   0.994\n",
      "  -0.144 \t   0.126 \t   0.994\n",
      "     2.2 \t    2.65 \t   0.994\n",
      "  -0.398 \t  -0.429 \t   0.994\n",
      "    7.18 \t    6.89 \t   0.994\n",
      "    4.39 \t    4.73 \t   0.994\n",
      "   -1.64 \t   -1.14 \t   0.994\n",
      "  0.0232 \t  0.0202 \t   0.994\n"
     ]
    }
   ],
   "source": [
    "class Perceptron(nn.Module):\n",
    "    def __init__(self):\n",
    "        super().__init__()\n",
    "        \n",
    "        self.weight = nn.Parameter(torch.randn(30))\n",
    "    \n",
    "    def forward(self, x):\n",
    "        return (x * self.weight).sum()\n",
    "\n",
    "\n",
    "teacher = Perceptron()\n",
    "student = Perceptron()\n",
    "\n",
    "optimizer = torch.optim.SGD(student.parameters(), lr=0.01)\n",
    "\n",
    "for _ in range(200):\n",
    "    x = torch.randn(30)\n",
    "    y_t = teacher(x)\n",
    "    y_s = student(x)\n",
    "\n",
    "    loss = (y_t - y_s) ** 2\n",
    "\n",
    "    optimizer.zero_grad()\n",
    "    loss.backward()\n",
    "    optimizer.step()\n",
    "    \n",
    "    Q = torch.dot(student.weight, teacher.weight) / (student.weight.norm() * teacher.weight.norm())\n",
    "    print(\"{:8.3} \\t{:8.3} \\t{:8.3}\".format(y_t.item(), y_s.item(), Q))"
   ]
  },
  {
   "cell_type": "code",
   "execution_count": null,
   "metadata": {},
   "outputs": [],
   "source": []
  },
  {
   "cell_type": "code",
   "execution_count": 27,
   "metadata": {},
   "outputs": [],
   "source": [
    "import matplotlib.pyplot as plt"
   ]
  },
  {
   "cell_type": "code",
   "execution_count": 28,
   "metadata": {},
   "outputs": [
    {
     "data": {
      "text/plain": [
       "[<matplotlib.lines.Line2D at 0x7f81b1484eb8>]"
      ]
     },
     "execution_count": 28,
     "metadata": {},
     "output_type": "execute_result"
    },
    {
     "data": {
      "image/png": "[encoded data removed]",
      "text/plain": [
       "<Figure size 432x288 with 1 Axes>"
      ]
     },
     "metadata": {
      "needs_background": "light"
     },
     "output_type": "display_data"
    }
   ],
   "source": [
    "plt.plot(teacher.weight.detach().numpy())\n",
    "plt.plot(student.weight.detach().numpy())"
   ]
  },
  {
   "cell_type": "code",
   "execution_count": null,
   "metadata": {},
   "outputs": [],
   "source": []
  }
 ],
 "metadata": {
  "kernelspec": {
   "display_name": "Python 3",
   "language": "python",
   "name": "python3"
  },
  "language_info": {
   "codemirror_mode": {
    "name": "ipython",
    "version": 3
   },
   "file_extension": ".py",
   "mimetype": "text/x-python",
   "name": "python",
   "nbconvert_exporter": "python",
   "pygments_lexer": "ipython3",
   "version": "3.7.3"
  }
 },
 "nbformat": 4,
 "nbformat_minor": 2
}
